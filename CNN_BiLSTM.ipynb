{
 "metadata": {
  "kernelspec": {
   "language": "python",
   "display_name": "Python 3",
   "name": "python3"
  },
  "language_info": {
   "pygments_lexer": "ipython3",
   "nbconvert_exporter": "python",
   "version": "3.6.4",
   "file_extension": ".py",
   "codemirror_mode": {
    "name": "ipython",
    "version": 3
   },
   "name": "python",
   "mimetype": "text/x-python"
  }
 },
 "nbformat_minor": 4,
 "nbformat": 4,
 "cells": [
  {
   "cell_type": "code",
   "source": [
    "import re\n",
    "import numpy as np\n",
    "import pandas as pd\n",
    "import seaborn as sns\n",
    "import tensorflow as tf\n",
    "import tensorflow_hub as hub\n",
    "import matplotlib.pyplot as plt\n",
    "\n",
    "from tqdm import tqdm\n",
    "from sklearn import utils\n",
    "from gensim.models import Doc2Vec\n",
    "from keras.preprocessing.text import Tokenizer\n",
    "from gensim.models.doc2vec import TaggedDocument\n",
    "from sklearn.model_selection import train_test_split\n",
    "from keras.preprocessing.sequence import pad_sequences\n",
    "tqdm.pandas(desc=\"progress-bar\")"
   ],
   "metadata": {
    "_cell_guid": "b1076dfc-b9ad-4769-8c92-a6c4dae69d19",
    "_uuid": "8f2839f25d086af736a60e9eeb907d3b93b6e0e5",
    "execution": {
     "iopub.execute_input": "2020-10-05T01:18:49.648447Z",
     "iopub.status.busy": "2020-10-05T01:18:49.647785Z",
     "iopub.status.idle": "2020-10-05T01:18:57.011155Z",
     "shell.execute_reply": "2020-10-05T01:18:57.010603Z"
    },
    "papermill": {
     "duration": 7.396026,
     "end_time": "2020-10-05T01:18:57.011338",
     "exception": false,
     "start_time": "2020-10-05T01:18:49.615312",
     "status": "completed"
    },
    "tags": [],
    "trusted": true
   },
   "execution_count": 1,
   "outputs": []
  },
  {
   "cell_type": "markdown",
   "source": [
    "Read Dataset"
   ],
   "metadata": {
    "papermill": {
     "duration": 0.026202,
     "end_time": "2020-10-05T01:18:57.065069",
     "exception": false,
     "start_time": "2020-10-05T01:18:57.038867",
     "status": "completed"
    },
    "tags": []
   }
  },
  {
   "cell_type": "code",
   "source": [
    "df = pd.read_csv('all-data.csv',delimiter=',',encoding='latin-1')\n",
    "#TODO: read to df -> books_en/Shakespeare/THE TRAGEDY OF ROMEO AND JULIET.txt\n",
    "df.head()"
   ],
   "metadata": {
    "execution": {
     "iopub.execute_input": "2020-10-05T01:18:57.125178Z",
     "iopub.status.busy": "2020-10-05T01:18:57.12449Z",
     "iopub.status.idle": "2020-10-05T01:18:57.180713Z",
     "shell.execute_reply": "2020-10-05T01:18:57.181214Z"
    },
    "papermill": {
     "duration": 0.08967,
     "end_time": "2020-10-05T01:18:57.181376",
     "exception": false,
     "start_time": "2020-10-05T01:18:57.091706",
     "status": "completed"
    },
    "tags": [],
    "trusted": true
   },
   "execution_count": 2,
   "outputs": [
    {
     "data": {
      "text/plain": "    neutral  \\\n0   neutral   \n1  negative   \n2  positive   \n3  positive   \n4  positive   \n\n  According to Gran , the company has no plans to move all production to Russia , although that is where the company is growing .  \n0  Technopolis plans to develop in stages an area...                                                                               \n1  The international electronic industry company ...                                                                               \n2  With the new production plant the company woul...                                                                               \n3  According to the company 's updated strategy f...                                                                               \n4  FINANCING OF ASPOCOMP 'S GROWTH Aspocomp is ag...                                                                               ",
      "text/html": "<div>\n<style scoped>\n    .dataframe tbody tr th:only-of-type {\n        vertical-align: middle;\n    }\n\n    .dataframe tbody tr th {\n        vertical-align: top;\n    }\n\n    .dataframe thead th {\n        text-align: right;\n    }\n</style>\n<table border=\"1\" class=\"dataframe\">\n  <thead>\n    <tr style=\"text-align: right;\">\n      <th></th>\n      <th>neutral</th>\n      <th>According to Gran , the company has no plans to move all production to Russia , although that is where the company is growing .</th>\n    </tr>\n  </thead>\n  <tbody>\n    <tr>\n      <th>0</th>\n      <td>neutral</td>\n      <td>Technopolis plans to develop in stages an area...</td>\n    </tr>\n    <tr>\n      <th>1</th>\n      <td>negative</td>\n      <td>The international electronic industry company ...</td>\n    </tr>\n    <tr>\n      <th>2</th>\n      <td>positive</td>\n      <td>With the new production plant the company woul...</td>\n    </tr>\n    <tr>\n      <th>3</th>\n      <td>positive</td>\n      <td>According to the company 's updated strategy f...</td>\n    </tr>\n    <tr>\n      <th>4</th>\n      <td>positive</td>\n      <td>FINANCING OF ASPOCOMP 'S GROWTH Aspocomp is ag...</td>\n    </tr>\n  </tbody>\n</table>\n</div>"
     },
     "execution_count": 2,
     "metadata": {},
     "output_type": "execute_result"
    }
   ]
  },
  {
   "cell_type": "code",
   "source": [
    "df = df.rename(columns={'neutral':'sentiment','According to Gran , the company has no plans to move all production to Russia , although that is where the company is growing .':'Message'})"
   ],
   "metadata": {
    "trusted": true
   },
   "execution_count": 3,
   "outputs": []
  },
  {
   "cell_type": "code",
   "source": [
    "df.shape"
   ],
   "metadata": {
    "_cell_guid": "79c7e3d0-c299-4dcb-8224-4455121ee9b0",
    "_uuid": "d629ff2d2480ee46fbb7e2d37f6b5fab8052498a",
    "execution": {
     "iopub.execute_input": "2020-10-05T01:18:57.240538Z",
     "iopub.status.busy": "2020-10-05T01:18:57.239589Z",
     "iopub.status.idle": "2020-10-05T01:18:57.24335Z",
     "shell.execute_reply": "2020-10-05T01:18:57.242794Z"
    },
    "papermill": {
     "duration": 0.03518,
     "end_time": "2020-10-05T01:18:57.243466",
     "exception": false,
     "start_time": "2020-10-05T01:18:57.208286",
     "status": "completed"
    },
    "tags": [],
    "trusted": true
   },
   "execution_count": 4,
   "outputs": [
    {
     "data": {
      "text/plain": "(4845, 2)"
     },
     "execution_count": 4,
     "metadata": {},
     "output_type": "execute_result"
    }
   ]
  },
  {
   "cell_type": "code",
   "source": [
    "df.index = range(4845)\n",
    "df['Message'].apply(lambda x: len(x.split(' '))).sum()"
   ],
   "metadata": {
    "execution": {
     "iopub.execute_input": "2020-10-05T01:18:57.313889Z",
     "iopub.status.busy": "2020-10-05T01:18:57.313076Z",
     "iopub.status.idle": "2020-10-05T01:18:57.316946Z",
     "shell.execute_reply": "2020-10-05T01:18:57.317401Z"
    },
    "papermill": {
     "duration": 0.046333,
     "end_time": "2020-10-05T01:18:57.317547",
     "exception": false,
     "start_time": "2020-10-05T01:18:57.271214",
     "status": "completed"
    },
    "tags": [],
    "trusted": true
   },
   "execution_count": 5,
   "outputs": [
    {
     "data": {
      "text/plain": "111964"
     },
     "execution_count": 5,
     "metadata": {},
     "output_type": "execute_result"
    }
   ]
  },
  {
   "cell_type": "markdown",
   "source": [
    "VISUALIZING THE DATA"
   ],
   "metadata": {
    "papermill": {
     "duration": 0.027071,
     "end_time": "2020-10-05T01:18:57.372222",
     "exception": false,
     "start_time": "2020-10-05T01:18:57.345151",
     "status": "completed"
    },
    "tags": []
   }
  },
  {
   "cell_type": "code",
   "source": [
    "cnt_pro = df['sentiment'].value_counts()\n",
    "plt.figure(figsize=(12,4))\n",
    "sns.barplot(cnt_pro.index, cnt_pro.values, alpha=0.8)\n",
    "plt.ylabel('Number of Occurrences', fontsize=12)\n",
    "plt.xlabel('sentiment', fontsize=12)\n",
    "plt.xticks(rotation=90)\n",
    "plt.show();"
   ],
   "metadata": {
    "execution": {
     "iopub.execute_input": "2020-10-05T01:18:57.43523Z",
     "iopub.status.busy": "2020-10-05T01:18:57.434605Z",
     "iopub.status.idle": "2020-10-05T01:18:57.596722Z",
     "shell.execute_reply": "2020-10-05T01:18:57.59716Z"
    },
    "papermill": {
     "duration": 0.197726,
     "end_time": "2020-10-05T01:18:57.597339",
     "exception": false,
     "start_time": "2020-10-05T01:18:57.399613",
     "status": "completed"
    },
    "tags": [],
    "trusted": true
   },
   "execution_count": 6,
   "outputs": [
    {
     "name": "stderr",
     "output_type": "stream",
     "text": [
      "d:\\study\\semester 9\\gan_env\\lib\\site-packages\\seaborn\\_decorators.py:36: FutureWarning: Pass the following variables as keyword args: x, y. From version 0.12, the only valid positional argument will be `data`, and passing other arguments without an explicit keyword will result in an error or misinterpretation.\n",
      "  warnings.warn(\n"
     ]
    },
    {
     "data": {
      "text/plain": "<Figure size 864x288 with 1 Axes>",
      "image/png": "[encoded data removed]"
     },
     "metadata": {
      "needs_background": "light"
     },
     "output_type": "display_data"
    }
   ]
  },
  {
   "cell_type": "code",
   "source": [
    "#Convert sting to numeric\n",
    "sentiment  = {'positive': 0,'neutral': 1,'negative':2} \n",
    "\n",
    "df.sentiment = [sentiment[item] for item in df.sentiment] \n",
    "print(df)"
   ],
   "metadata": {
    "trusted": true
   },
   "execution_count": 7,
   "outputs": [
    {
     "name": "stdout",
     "output_type": "stream",
     "text": [
      "      sentiment                                            Message\n",
      "0             1  Technopolis plans to develop in stages an area...\n",
      "1             2  The international electronic industry company ...\n",
      "2             0  With the new production plant the company woul...\n",
      "3             0  According to the company 's updated strategy f...\n",
      "4             0  FINANCING OF ASPOCOMP 'S GROWTH Aspocomp is ag...\n",
      "...         ...                                                ...\n",
      "4840          2  LONDON MarketWatch -- Share prices ended lower...\n",
      "4841          1  Rinkuskiai 's beer sales fell by 6.5 per cent ...\n",
      "4842          2  Operating profit fell to EUR 35.4 mn from EUR ...\n",
      "4843          2  Net sales of the Paper segment decreased to EU...\n",
      "4844          2  Sales in Finland decreased by 10.5 % in Januar...\n",
      "\n",
      "[4845 rows x 2 columns]\n"
     ]
    }
   ]
  },
  {
   "cell_type": "code",
   "source": [
    "def print_message(index):\n",
    "    example = df[df.index == index][['Message', 'sentiment']].values[0]\n",
    "    if len(example) > 0:\n",
    "        print(example[0])\n",
    "        print('Message:', example[1])\n",
    "print_message(12)"
   ],
   "metadata": {
    "execution": {
     "iopub.execute_input": "2020-10-05T01:18:57.661109Z",
     "iopub.status.busy": "2020-10-05T01:18:57.660385Z",
     "iopub.status.idle": "2020-10-05T01:18:57.664845Z",
     "shell.execute_reply": "2020-10-05T01:18:57.664295Z"
    },
    "papermill": {
     "duration": 0.039449,
     "end_time": "2020-10-05T01:18:57.66496",
     "exception": false,
     "start_time": "2020-10-05T01:18:57.625511",
     "status": "completed"
    },
    "tags": [],
    "trusted": true
   },
   "execution_count": 8,
   "outputs": [
    {
     "name": "stdout",
     "output_type": "stream",
     "text": [
      "Finnish Talentum reports its operating profit increased to EUR 20.5 mn in 2005 from EUR 9.3 mn in 2004 , and net sales totaled EUR 103.3 mn , up from EUR 96.4 mn .\n",
      "Message: 0\n"
     ]
    }
   ]
  },
  {
   "cell_type": "code",
   "source": [
    "print_message(0)"
   ],
   "metadata": {
    "execution": {
     "iopub.execute_input": "2020-10-05T01:18:57.727963Z",
     "iopub.status.busy": "2020-10-05T01:18:57.72733Z",
     "iopub.status.idle": "2020-10-05T01:18:57.730151Z",
     "shell.execute_reply": "2020-10-05T01:18:57.730741Z"
    },
    "papermill": {
     "duration": 0.03747,
     "end_time": "2020-10-05T01:18:57.730886",
     "exception": false,
     "start_time": "2020-10-05T01:18:57.693416",
     "status": "completed"
    },
    "tags": [],
    "trusted": true
   },
   "execution_count": 9,
   "outputs": [
    {
     "name": "stdout",
     "output_type": "stream",
     "text": [
      "Technopolis plans to develop in stages an area of no less than 100,000 square meters in order to host companies working in computer technologies and telecommunications , the statement said .\n",
      "Message: 1\n"
     ]
    }
   ]
  },
  {
   "cell_type": "markdown",
   "source": [
    "Text Preprocessing Below we define a function to convert text to lower-case and strip punctuation/symbols from words and so on."
   ],
   "metadata": {
    "papermill": {
     "duration": 0.028191,
     "end_time": "2020-10-05T01:18:57.787679",
     "exception": false,
     "start_time": "2020-10-05T01:18:57.759488",
     "status": "completed"
    },
    "tags": []
   }
  },
  {
   "cell_type": "code",
   "source": [
    "from bs4 import BeautifulSoup\n",
    "def clean_text(text):\n",
    "    text = BeautifulSoup(text, \"html\").text\n",
    "    text = re.sub(r'\\|\\|\\|', r' ', text) \n",
    "    text = re.sub(r'http\\S+', r'<URL>', text)\n",
    "    text = text.lower()\n",
    "    text = text.replace('x', '')\n",
    "    return text\n",
    "df['Message'] = df['Message'].apply(clean_text)"
   ],
   "metadata": {
    "execution": {
     "iopub.execute_input": "2020-10-05T01:18:57.851856Z",
     "iopub.status.busy": "2020-10-05T01:18:57.851034Z",
     "iopub.status.idle": "2020-10-05T01:18:59.249432Z",
     "shell.execute_reply": "2020-10-05T01:18:59.248746Z"
    },
    "papermill": {
     "duration": 1.433243,
     "end_time": "2020-10-05T01:18:59.249542",
     "exception": false,
     "start_time": "2020-10-05T01:18:57.816299",
     "status": "completed"
    },
    "tags": [],
    "trusted": true
   },
   "execution_count": 10,
   "outputs": []
  },
  {
   "cell_type": "code",
   "source": [
    "df['Message'] = df['Message'].apply(clean_text)\n",
    "train, test = train_test_split(df, test_size=0.000001 , random_state=42)\n",
    "import nltk\n",
    "nltk.download('punkt')\n",
    "\n",
    "def tokenize_text(text):\n",
    "    tokens = []\n",
    "    for sent in nltk.sent_tokenize(text):\n",
    "        for word in nltk.word_tokenize(sent):\n",
    "            if len(word) <= 0:\n",
    "                continue\n",
    "            tokens.append(word.lower())\n",
    "    return tokens\n",
    "\n",
    "train_tagged = train.apply(\n",
    "    lambda r: TaggedDocument(words=tokenize_text(r['Message']), tags=[r.sentiment]), axis=1)\n",
    "test_tagged = test.apply(\n",
    "    lambda r: TaggedDocument(words=tokenize_text(r['Message']), tags=[r.sentiment]), axis=1)\n",
    "\n",
    "# The maximum number of words to be used. (most frequent)\n",
    "max_features = 500000\n",
    "\n",
    "# Max number of words in each complaint.\n",
    "MAX_SEQUENCE_LENGTH = 50\n",
    "\n",
    "tokenizer = Tokenizer(num_words=max_features, split=' ', filters='!\"#$%&()*+,-./:;<=>?@[\\\\]^_`{|}~', lower=True)\n",
    "tokenizer.fit_on_texts(df['Message'].values)\n",
    "X = tokenizer.texts_to_sequences(df['Message'].values)\n",
    "X = pad_sequences(X)\n",
    "print('Found %s unique tokens.' % len(X))"
   ],
   "metadata": {
    "execution": {
     "iopub.execute_input": "2020-10-05T01:18:59.320415Z",
     "iopub.status.busy": "2020-10-05T01:18:59.315271Z",
     "iopub.status.idle": "2020-10-05T01:19:03.167105Z",
     "shell.execute_reply": "2020-10-05T01:19:03.166463Z"
    },
    "papermill": {
     "duration": 3.888841,
     "end_time": "2020-10-05T01:19:03.167222",
     "exception": false,
     "start_time": "2020-10-05T01:18:59.278381",
     "status": "completed"
    },
    "tags": [],
    "trusted": true
   },
   "execution_count": 11,
   "outputs": [
    {
     "name": "stderr",
     "output_type": "stream",
     "text": [
      "[nltk_data] Downloading package punkt to\n",
      "[nltk_data]     C:\\Users\\Chrysalis\\AppData\\Roaming\\nltk_data...\n",
      "[nltk_data]   Package punkt is already up-to-date!\n"
     ]
    },
    {
     "name": "stdout",
     "output_type": "stream",
     "text": [
      "Found 4845 unique tokens.\n"
     ]
    }
   ]
  },
  {
   "cell_type": "code",
   "source": [
    "X = tokenizer.texts_to_sequences(df['Message'].values)\n",
    "X = pad_sequences(X, maxlen=MAX_SEQUENCE_LENGTH)\n",
    "print('Shape of data tensor:', X.shape)"
   ],
   "metadata": {
    "execution": {
     "iopub.execute_input": "2020-10-05T01:19:03.26982Z",
     "iopub.status.busy": "2020-10-05T01:19:03.264784Z",
     "iopub.status.idle": "2020-10-05T01:19:03.357792Z",
     "shell.execute_reply": "2020-10-05T01:19:03.357033Z"
    },
    "papermill": {
     "duration": 0.161222,
     "end_time": "2020-10-05T01:19:03.35797",
     "exception": false,
     "start_time": "2020-10-05T01:19:03.196748",
     "status": "completed"
    },
    "tags": [],
    "trusted": true
   },
   "execution_count": 12,
   "outputs": [
    {
     "name": "stdout",
     "output_type": "stream",
     "text": [
      "Shape of data tensor: (4845, 50)\n"
     ]
    }
   ]
  },
  {
   "cell_type": "code",
   "source": [
    "#train_tagged.values[2173]\n",
    "train_tagged.values"
   ],
   "metadata": {
    "execution": {
     "iopub.execute_input": "2020-10-05T01:19:03.423266Z",
     "iopub.status.busy": "2020-10-05T01:19:03.422404Z",
     "iopub.status.idle": "2020-10-05T01:19:03.42685Z",
     "shell.execute_reply": "2020-10-05T01:19:03.426078Z"
    },
    "papermill": {
     "duration": 0.038354,
     "end_time": "2020-10-05T01:19:03.426988",
     "exception": false,
     "start_time": "2020-10-05T01:19:03.388634",
     "status": "completed"
    },
    "tags": [],
    "trusted": true
   },
   "execution_count": 13,
   "outputs": [
    {
     "data": {
      "text/plain": "array([TaggedDocument(words=['upm-kymmene', 'has', 'generated', 'four', 'consecutive', 'quarters', 'of', 'positive', 'free', 'cash', 'flow', '.'], tags=[0]),\n       TaggedDocument(words=['in', 'the', 'method', 'the', 'smelt', 'spouts', '2', 'are', 'separated', 'from', 'the', 'working', 'area', '6', 'by', 'a', 'shielding', 'wall', '8', ',', '10', 'arranged', 'movable', 'in', 'relation', 'to', 'the', 'smelt', 'spouts', '.'], tags=[1]),\n       TaggedDocument(words=['``', 'that', \"'s\", 'a', 'very', 'high', 'figure', 'on', 'the', 'european', 'scale', ',', '``', 'noop', 'said', ',', 'recalling', 'however', 'that', 'this', 'also', 'includes', 'beer', 'bought', 'by', 'finnish', 'tourists', '.'], tags=[1]),\n       ...,\n       TaggedDocument(words=['proha', 'plc', '(', 'euronet', ':7327', ')', 'announced', 'today', '(', '19', 'may', ')', 'that', 'its', 'fully-owned', 'subsidiary', ',', 'safran', 'software', 'solutions', 'as', ',', 'has', 'agreed', 'to', 'sell', 'its', '49', '%', 'share', 'of', 'safran', 'north', 'america', 'llc', 'to', 'a', 'sna', 'holding', 'as', ',', 'an', 'investment', 'group', 'based', 'in', 'norway', '.'], tags=[1]),\n       TaggedDocument(words=['the', 'building', 'will', 'house', 'product', 'development', 'and', 'test', 'laboratories', '.'], tags=[1]),\n       TaggedDocument(words=['(', 'adp', 'news', ')', '-', 'oct', '31', ',', '2008', '-', 'finnish', 'food', 'company', 'raisio', 'oyj', '(', 'om', ':', 'raivv', ')', 'said', 'today', 'that', 'its', 'net', 'profit', 'jumped', 'to', 'eur', '16.4', 'million', '(', 'usd', '20.9', 'm', ')', 'for', 'the', 'first', 'nine', 'months', 'of', '2008', 'from', 'eur', '1.1', 'million', 'for', 'the', 'same', 'period', 'of', '2'], tags=[0])],\n      dtype=object)"
     },
     "execution_count": 13,
     "metadata": {},
     "output_type": "execute_result"
    }
   ]
  },
  {
   "cell_type": "markdown",
   "source": [
    "Model DM = 1\n",
    "\n",
    "This work use DM=1 (it preserves word order)"
   ],
   "metadata": {
    "papermill": {
     "duration": 0.030785,
     "end_time": "2020-10-05T01:19:03.489054",
     "exception": false,
     "start_time": "2020-10-05T01:19:03.458269",
     "status": "completed"
    },
    "tags": []
   }
  },
  {
   "cell_type": "code",
   "source": [
    "d2v_model = Doc2Vec(dm=1, dm_mean=1, vector_size=20, window=8, min_count=1, workers=1, alpha=0.065, min_alpha=0.065)\n",
    "d2v_model.build_vocab([x for x in tqdm(train_tagged.values)])\n"
   ],
   "metadata": {
    "execution": {
     "iopub.execute_input": "2020-10-05T01:19:03.55773Z",
     "iopub.status.busy": "2020-10-05T01:19:03.557064Z",
     "iopub.status.idle": "2020-10-05T01:19:05.81867Z",
     "shell.execute_reply": "2020-10-05T01:19:05.817959Z"
    },
    "papermill": {
     "duration": 2.298341,
     "end_time": "2020-10-05T01:19:05.818788",
     "exception": false,
     "start_time": "2020-10-05T01:19:03.520447",
     "status": "completed"
    },
    "tags": [],
    "trusted": true
   },
   "execution_count": 14,
   "outputs": [
    {
     "name": "stderr",
     "output_type": "stream",
     "text": [
      "100%|██████████| 4844/4844 [00:00<00:00, 4876910.36it/s]\n"
     ]
    }
   ]
  },
  {
   "cell_type": "code",
   "source": [
    "%%time\n",
    "for epoch in range(30):\n",
    "    d2v_model.train(utils.shuffle([x for x in tqdm(train_tagged.values)]), total_examples=len(train_tagged.values), epochs=1)\n",
    "    d2v_model.alpha -= 0.002\n",
    "    d2v_model.min_alpha = d2v_model.alpha"
   ],
   "metadata": {
    "execution": {
     "iopub.execute_input": "2020-10-05T01:19:05.886405Z",
     "iopub.status.busy": "2020-10-05T01:19:05.885713Z",
     "iopub.status.idle": "2020-10-05T01:19:17.297968Z",
     "shell.execute_reply": "2020-10-05T01:19:17.29887Z"
    },
    "papermill": {
     "duration": 11.449623,
     "end_time": "2020-10-05T01:19:17.299148",
     "exception": false,
     "start_time": "2020-10-05T01:19:05.849525",
     "status": "completed"
    },
    "tags": [],
    "trusted": true
   },
   "execution_count": 15,
   "outputs": [
    {
     "name": "stderr",
     "output_type": "stream",
     "text": [
      "100%|██████████| 4844/4844 [00:00<00:00, 4864067.17it/s]\n",
      "100%|██████████| 4844/4844 [00:00<00:00, 4857090.26it/s]\n",
      "100%|██████████| 4844/4844 [00:00<00:00, 4857090.26it/s]\n",
      "100%|██████████| 4844/4844 [00:00<00:00, 4860576.21it/s]\n",
      "100%|██████████| 4844/4844 [00:00<00:00, 4720541.03it/s]\n",
      "100%|██████████| 4844/4844 [00:00<00:00, 4857090.26it/s]\n",
      "100%|██████████| 4844/4844 [00:00<00:00, 4857090.26it/s]\n",
      "100%|██████████| 4844/4844 [00:00<00:00, 4853609.31it/s]\n",
      "100%|██████████| 4844/4844 [00:00<00:00, 4723833.66it/s]\n",
      "100%|██████████| 4844/4844 [00:00<00:00, 4862902.96it/s]\n",
      "100%|██████████| 4844/4844 [00:00<00:00, 4853609.31it/s]\n",
      "100%|██████████| 4844/4844 [00:00<00:00, 4939754.09it/s]\n",
      "100%|██████████| 4844/4844 [00:00<00:00, 4850133.34it/s]\n",
      "100%|██████████| 4844/4844 [00:00<?, ?it/s]\n",
      "100%|██████████| 4844/4844 [00:00<00:00, 4842042.08it/s]\n",
      "100%|██████████| 4844/4844 [00:00<00:00, 4855929.39it/s]\n",
      "100%|██████████| 4844/4844 [00:00<00:00, 4851291.45it/s]\n",
      "100%|██████████| 4844/4844 [00:00<00:00, 4871064.15it/s]\n",
      "100%|██████████| 4844/4844 [00:00<00:00, 2763494.09it/s]\n",
      "100%|██████████| 4844/4844 [00:00<00:00, 4860576.21it/s]\n",
      "100%|██████████| 4844/4844 [00:00<00:00, 4848975.79it/s]\n",
      "100%|██████████| 4844/4844 [00:00<00:00, 4847818.80it/s]\n",
      "100%|██████████| 4844/4844 [00:00<00:00, 4842042.08it/s]\n",
      "100%|██████████| 4844/4844 [00:00<00:00, 4989491.30it/s]\n",
      "100%|██████████| 4844/4844 [00:00<00:00, 4906353.19it/s]\n",
      "100%|██████████| 4844/4844 [00:00<00:00, 4727130.89it/s]\n",
      "100%|██████████| 4844/4844 [00:00<00:00, 4717252.98it/s]\n",
      "100%|██████████| 4844/4844 [00:00<00:00, 4858251.69it/s]\n",
      "100%|██████████| 4844/4844 [00:00<00:00, 4990716.92it/s]\n",
      "100%|██████████| 4844/4844 [00:00<00:00, 5042742.26it/s]\n"
     ]
    },
    {
     "name": "stdout",
     "output_type": "stream",
     "text": [
      "Wall time: 5.73 s\n"
     ]
    }
   ]
  },
  {
   "cell_type": "code",
   "source": [
    "print(d2v_model)"
   ],
   "metadata": {
    "execution": {
     "iopub.execute_input": "2020-10-05T01:19:17.431464Z",
     "iopub.status.busy": "2020-10-05T01:19:17.430666Z",
     "iopub.status.idle": "2020-10-05T01:19:17.434788Z",
     "shell.execute_reply": "2020-10-05T01:19:17.43418Z"
    },
    "papermill": {
     "duration": 0.063869,
     "end_time": "2020-10-05T01:19:17.434906",
     "exception": false,
     "start_time": "2020-10-05T01:19:17.371037",
     "status": "completed"
    },
    "tags": [],
    "trusted": true
   },
   "execution_count": 16,
   "outputs": [
    {
     "name": "stdout",
     "output_type": "stream",
     "text": [
      "Doc2Vec(dm/m,d20,n5,w8,s0.001)\n"
     ]
    }
   ]
  },
  {
   "cell_type": "code",
   "source": [
    "len(d2v_model.wv.vocab)"
   ],
   "metadata": {
    "execution": {
     "iopub.execute_input": "2020-10-05T01:19:17.552003Z",
     "iopub.status.busy": "2020-10-05T01:19:17.551313Z",
     "iopub.status.idle": "2020-10-05T01:19:17.555857Z",
     "shell.execute_reply": "2020-10-05T01:19:17.555256Z"
    },
    "papermill": {
     "duration": 0.065241,
     "end_time": "2020-10-05T01:19:17.555966",
     "exception": false,
     "start_time": "2020-10-05T01:19:17.490725",
     "status": "completed"
    },
    "tags": [],
    "trusted": true
   },
   "execution_count": 17,
   "outputs": [
    {
     "data": {
      "text/plain": "11682"
     },
     "execution_count": 17,
     "metadata": {},
     "output_type": "execute_result"
    }
   ]
  },
  {
   "cell_type": "code",
   "source": [
    "# save the vectors in a new matrix\n",
    "embedding_matrix = np.zeros((len(d2v_model.wv.vocab)+ 1, 20))\n",
    "\n",
    "for i, vec in enumerate(d2v_model.docvecs.vectors_docs):\n",
    "    while i in vec <= 1000:\n",
    "    #print(i)\n",
    "    #print(model.docvecs)\n",
    "          embedding_matrix[i]=vec\n",
    "    #print(vec)\n",
    "    #print(vec[i])"
   ],
   "metadata": {
    "execution": {
     "iopub.execute_input": "2020-10-05T01:19:17.675386Z",
     "iopub.status.busy": "2020-10-05T01:19:17.674656Z",
     "iopub.status.idle": "2020-10-05T01:19:17.678629Z",
     "shell.execute_reply": "2020-10-05T01:19:17.677978Z"
    },
    "papermill": {
     "duration": 0.066276,
     "end_time": "2020-10-05T01:19:17.678744",
     "exception": false,
     "start_time": "2020-10-05T01:19:17.612468",
     "status": "completed"
    },
    "tags": [],
    "trusted": true
   },
   "execution_count": 18,
   "outputs": []
  },
  {
   "cell_type": "markdown",
   "source": [
    "# Measuring distance between two vectors (related to cosine similarity)"
   ],
   "metadata": {
    "papermill": {
     "duration": 0.056188,
     "end_time": "2020-10-05T01:19:17.792133",
     "exception": false,
     "start_time": "2020-10-05T01:19:17.735945",
     "status": "completed"
    },
    "tags": []
   }
  },
  {
   "cell_type": "code",
   "source": [
    "d2v_model.wv.most_similar(positive=['profit'], topn=10)\n"
   ],
   "metadata": {
    "execution": {
     "iopub.execute_input": "2020-10-05T01:19:17.911424Z",
     "iopub.status.busy": "2020-10-05T01:19:17.910718Z",
     "iopub.status.idle": "2020-10-05T01:19:17.922817Z",
     "shell.execute_reply": "2020-10-05T01:19:17.922112Z"
    },
    "papermill": {
     "duration": 0.074348,
     "end_time": "2020-10-05T01:19:17.922934",
     "exception": false,
     "start_time": "2020-10-05T01:19:17.848586",
     "status": "completed"
    },
    "tags": [],
    "trusted": true
   },
   "execution_count": 19,
   "outputs": [
    {
     "data": {
      "text/plain": "[('loss', 0.8851058483123779),\n ('income', 0.7569829821586609),\n ('sacanfil', 0.7506617307662964),\n ('mistake', 0.7386969923973083),\n ('eur121m', 0.7272866368293762),\n ('contribution', 0.7168368101119995),\n ('rap1v', 0.71683669090271),\n ('profits', 0.707839846611023),\n ('mechanics', 0.706662654876709),\n ('.27', 0.693638801574707)]"
     },
     "execution_count": 19,
     "metadata": {},
     "output_type": "execute_result"
    }
   ]
  },
  {
   "cell_type": "code",
   "source": [
    "d2v_model.wv.most_similar(positive=['investment'], topn=10)\n"
   ],
   "metadata": {
    "execution": {
     "iopub.execute_input": "2020-10-05T01:19:18.045125Z",
     "iopub.status.busy": "2020-10-05T01:19:18.044197Z",
     "iopub.status.idle": "2020-10-05T01:19:18.050376Z",
     "shell.execute_reply": "2020-10-05T01:19:18.049834Z"
    },
    "papermill": {
     "duration": 0.070818,
     "end_time": "2020-10-05T01:19:18.050488",
     "exception": false,
     "start_time": "2020-10-05T01:19:17.97967",
     "status": "completed"
    },
    "tags": [],
    "trusted": true
   },
   "execution_count": 20,
   "outputs": [
    {
     "data": {
      "text/plain": "[('sinappi', 0.7542585134506226),\n ('demanded', 0.7437744140625),\n ('honkajoki', 0.73475182056427),\n ('unilever', 0.7343888282775879),\n ('refineries', 0.7249599099159241),\n ('12.6', 0.7175784707069397),\n ('seudun', 0.7171003818511963),\n ('niklas', 0.7084669470787048),\n ('syndicated', 0.6951124668121338),\n ('aeronautic', 0.687085747718811)]"
     },
     "execution_count": 20,
     "metadata": {},
     "output_type": "execute_result"
    }
   ]
  },
  {
   "cell_type": "code",
   "source": [
    "d2v_model.wv.most_similar(positive=['broke'], topn=10)"
   ],
   "metadata": {
    "trusted": true
   },
   "execution_count": 21,
   "outputs": [
    {
     "data": {
      "text/plain": "[('mold', 0.9816063642501831),\n ('brockpahler', 0.8891646862030029),\n ('mika', 0.8791223764419556),\n ('kelly', 0.8786339163780212),\n ('aboavista', 0.8629003763198853),\n ('bnamericas', 0.8506964445114136),\n ('mda', 0.8382914066314697),\n ('maatta', 0.8225914239883423),\n ('want', 0.8158885836601257),\n ('frank', 0.8078140020370483)]"
     },
     "execution_count": 21,
     "metadata": {},
     "output_type": "execute_result"
    }
   ]
  },
  {
   "cell_type": "markdown",
   "source": [
    "Plot Similarity word in Doc2vec"
   ],
   "metadata": {}
  },
  {
   "cell_type": "code",
   "source": [
    "from sklearn.manifold import TSNE\n",
    "import matplotlib.pyplot as plt\n",
    "%matplotlib inline\n",
    "\n",
    "def tsne_plot(model_to_plot):\n",
    "    \"\"\"Creates and TSNE model and plots it\"\"\"\n",
    "    plot_labels = []\n",
    "    tokens = []\n",
    "\n",
    "    for word in d2v_model.wv.vocab:\n",
    "        tokens.append(model_to_plot[word])\n",
    "        plot_labels.append(word)\n",
    "    \n",
    "    tsne_model = TSNE(perplexity=40, n_components=2, init='pca', n_iter=250, random_state=23)\n",
    "    new_values = tsne_model.fit_transform(tokens)\n",
    "\n",
    "    x = []\n",
    "    y = []\n",
    "    for value in new_values:\n",
    "        x.append(value[0])\n",
    "        y.append(value[1])\n",
    "        \n",
    "    plt.figure(figsize=(16, 16)) \n",
    "    for k in range(len(x)):\n",
    "        plt.scatter(x[k],y[k])\n",
    "        plt.annotate(plot_labels[k],\n",
    "                     xy=(x[k], y[k]),\n",
    "                     xytext=(5, 2),\n",
    "                     textcoords='offset points',\n",
    "                     ha='right',\n",
    "                     va='bottom')\n",
    "    plt.show()"
   ],
   "metadata": {
    "trusted": true
   },
   "execution_count": 22,
   "outputs": []
  },
  {
   "cell_type": "code",
   "source": [
    "#tsne_plot(d2v_model)"
   ],
   "metadata": {
    "trusted": true
   },
   "execution_count": 23,
   "outputs": []
  },
  {
   "cell_type": "markdown",
   "source": [
    "# Create the LSTM Model\n",
    "\n",
    "The parameter used here inspired by [3]."
   ],
   "metadata": {
    "papermill": {
     "duration": 0.057228,
     "end_time": "2020-10-05T01:19:18.165925",
     "exception": false,
     "start_time": "2020-10-05T01:19:18.108697",
     "status": "completed"
    },
    "tags": []
   }
  },
  {
   "cell_type": "code",
   "source": [
    "from keras.models import Sequential\n",
    "from keras.layers import LSTM, Dense, Embedding\n",
    "\n",
    "# init layer\n",
    "model = Sequential()\n",
    "\n",
    "# embed word vectors\n",
    "model.add(Embedding(len(d2v_model.wv.vocab)+1,20,input_length=X.shape[1],weights=[embedding_matrix],trainable=True))\n",
    "\n",
    "# learn the correlations\n",
    "def split_input(sequence):\n",
    "     return sequence[:-1], tf.reshape(sequence[1:], (-1,1))\n",
    "model.add(LSTM(50,return_sequences=False))\n",
    "model.add(Dense(3,activation=\"softmax\"))\n",
    "\n",
    "# output model skeleton\n",
    "model.summary()\n",
    "model.compile(optimizer=\"adam\",loss=\"binary_crossentropy\",metrics=['acc'])"
   ],
   "metadata": {
    "execution": {
     "iopub.execute_input": "2020-10-05T01:19:18.290022Z",
     "iopub.status.busy": "2020-10-05T01:19:18.28922Z",
     "iopub.status.idle": "2020-10-05T01:19:18.769926Z",
     "shell.execute_reply": "2020-10-05T01:19:18.769384Z"
    },
    "papermill": {
     "duration": 0.54651,
     "end_time": "2020-10-05T01:19:18.770035",
     "exception": false,
     "start_time": "2020-10-05T01:19:18.223525",
     "status": "completed"
    },
    "tags": [],
    "trusted": true
   },
   "execution_count": 24,
   "outputs": [
    {
     "name": "stdout",
     "output_type": "stream",
     "text": [
      "Model: \"sequential\"\n",
      "_________________________________________________________________\n",
      "Layer (type)                 Output Shape              Param #   \n",
      "=================================================================\n",
      "embedding (Embedding)        (None, 50, 20)            233660    \n",
      "_________________________________________________________________\n",
      "lstm (LSTM)                  (None, 50)                14200     \n",
      "_________________________________________________________________\n",
      "dense (Dense)                (None, 3)                 153       \n",
      "=================================================================\n",
      "Total params: 248,013\n",
      "Trainable params: 248,013\n",
      "Non-trainable params: 0\n",
      "_________________________________________________________________\n"
     ]
    }
   ]
  },
  {
   "cell_type": "code",
   "source": [
    "from keras.utils.vis_utils import plot_model\n",
    "plot_model(model, to_file='model.png')"
   ],
   "metadata": {
    "execution": {
     "iopub.execute_input": "2020-10-05T01:19:18.890903Z",
     "iopub.status.busy": "2020-10-05T01:19:18.890223Z",
     "iopub.status.idle": "2020-10-05T01:19:19.468055Z",
     "shell.execute_reply": "2020-10-05T01:19:19.467419Z"
    },
    "papermill": {
     "duration": 0.641169,
     "end_time": "2020-10-05T01:19:19.468168",
     "exception": false,
     "start_time": "2020-10-05T01:19:18.826999",
     "status": "completed"
    },
    "tags": [],
    "trusted": true
   },
   "execution_count": 25,
   "outputs": [
    {
     "name": "stdout",
     "output_type": "stream",
     "text": [
      "('You must install pydot (`pip install pydot`) and install graphviz (see instructions at https://graphviz.gitlab.io/download/) ', 'for plot_model/model_to_dot to work.')\n"
     ]
    }
   ]
  },
  {
   "cell_type": "code",
   "source": [
    "Y = pd.get_dummies(df['sentiment']).values\n",
    "X_train, X_test, Y_train, Y_test = train_test_split(X,Y, test_size = 0.15, random_state = 42)\n",
    "print(X_train.shape,Y_train.shape)\n",
    "print(X_test.shape,Y_test.shape)"
   ],
   "metadata": {
    "execution": {
     "iopub.execute_input": "2020-10-05T01:19:19.592582Z",
     "iopub.status.busy": "2020-10-05T01:19:19.591805Z",
     "iopub.status.idle": "2020-10-05T01:19:19.600008Z",
     "shell.execute_reply": "2020-10-05T01:19:19.60048Z"
    },
    "papermill": {
     "duration": 0.073975,
     "end_time": "2020-10-05T01:19:19.600639",
     "exception": false,
     "start_time": "2020-10-05T01:19:19.526664",
     "status": "completed"
    },
    "tags": [],
    "trusted": true
   },
   "execution_count": 26,
   "outputs": [
    {
     "name": "stdout",
     "output_type": "stream",
     "text": [
      "(4118, 50) (4118, 3)\n",
      "(727, 50) (727, 3)\n"
     ]
    }
   ]
  },
  {
   "cell_type": "code",
   "source": [
    "batch_size = 32\n",
    "history=model.fit(X_train, Y_train, epochs =50, batch_size=batch_size, verbose = 2)"
   ],
   "metadata": {
    "execution": {
     "iopub.execute_input": "2020-10-05T01:19:19.723478Z",
     "iopub.status.busy": "2020-10-05T01:19:19.722804Z",
     "iopub.status.idle": "2020-10-05T01:21:25.543691Z",
     "shell.execute_reply": "2020-10-05T01:21:25.54296Z"
    },
    "papermill": {
     "duration": 125.885256,
     "end_time": "2020-10-05T01:21:25.543826",
     "exception": false,
     "start_time": "2020-10-05T01:19:19.65857",
     "status": "completed"
    },
    "tags": [],
    "trusted": true
   },
   "execution_count": 27,
   "outputs": [
    {
     "name": "stdout",
     "output_type": "stream",
     "text": [
      "Epoch 1/50\n",
      "129/129 - 9s - loss: 0.5611 - acc: 0.5935\n",
      "Epoch 2/50\n",
      "129/129 - 1s - loss: 0.4239 - acc: 0.6977\n",
      "Epoch 3/50\n",
      "129/129 - 1s - loss: 0.2989 - acc: 0.7946\n",
      "Epoch 4/50\n",
      "129/129 - 1s - loss: 0.2057 - acc: 0.8635\n",
      "Epoch 5/50\n",
      "129/129 - 1s - loss: 0.1256 - acc: 0.9395\n",
      "Epoch 6/50\n",
      "129/129 - 1s - loss: 0.1118 - acc: 0.9490\n",
      "Epoch 7/50\n",
      "129/129 - 1s - loss: 0.0637 - acc: 0.9721\n",
      "Epoch 8/50\n",
      "129/129 - 1s - loss: 0.0470 - acc: 0.9791\n",
      "Epoch 9/50\n",
      "129/129 - 1s - loss: 0.0396 - acc: 0.9847\n",
      "Epoch 10/50\n",
      "129/129 - 1s - loss: 0.0362 - acc: 0.9852\n",
      "Epoch 11/50\n",
      "129/129 - 1s - loss: 0.0269 - acc: 0.9908\n",
      "Epoch 12/50\n",
      "129/129 - 1s - loss: 0.0275 - acc: 0.9871\n",
      "Epoch 13/50\n",
      "129/129 - 1s - loss: 0.0220 - acc: 0.9900\n",
      "Epoch 14/50\n",
      "129/129 - 1s - loss: 0.0186 - acc: 0.9922\n",
      "Epoch 15/50\n",
      "129/129 - 1s - loss: 0.0171 - acc: 0.9930\n",
      "Epoch 16/50\n",
      "129/129 - 1s - loss: 0.0123 - acc: 0.9959\n",
      "Epoch 17/50\n",
      "129/129 - 1s - loss: 0.0115 - acc: 0.9951\n",
      "Epoch 18/50\n",
      "129/129 - 1s - loss: 0.0102 - acc: 0.9949\n",
      "Epoch 19/50\n",
      "129/129 - 1s - loss: 0.0087 - acc: 0.9961\n",
      "Epoch 20/50\n",
      "129/129 - 1s - loss: 0.0107 - acc: 0.9959\n",
      "Epoch 21/50\n",
      "129/129 - 1s - loss: 0.0121 - acc: 0.9949\n",
      "Epoch 22/50\n",
      "129/129 - 1s - loss: 0.0123 - acc: 0.9951\n",
      "Epoch 23/50\n",
      "129/129 - 1s - loss: 0.0131 - acc: 0.9937\n",
      "Epoch 24/50\n",
      "129/129 - 1s - loss: 0.0067 - acc: 0.9964\n",
      "Epoch 25/50\n",
      "129/129 - 1s - loss: 0.0066 - acc: 0.9976\n",
      "Epoch 26/50\n",
      "129/129 - 1s - loss: 0.0070 - acc: 0.9961\n",
      "Epoch 27/50\n",
      "129/129 - 1s - loss: 0.0071 - acc: 0.9968\n",
      "Epoch 28/50\n",
      "129/129 - 1s - loss: 0.0052 - acc: 0.9973\n",
      "Epoch 29/50\n",
      "129/129 - 1s - loss: 0.0169 - acc: 0.9934\n",
      "Epoch 30/50\n",
      "129/129 - 1s - loss: 0.0078 - acc: 0.9959\n",
      "Epoch 31/50\n",
      "129/129 - 1s - loss: 0.0036 - acc: 0.9985\n",
      "Epoch 32/50\n",
      "129/129 - 1s - loss: 0.0053 - acc: 0.9976\n",
      "Epoch 33/50\n",
      "129/129 - 1s - loss: 0.0077 - acc: 0.9959\n",
      "Epoch 34/50\n",
      "129/129 - 1s - loss: 0.0184 - acc: 0.9922\n",
      "Epoch 35/50\n",
      "129/129 - 1s - loss: 0.0073 - acc: 0.9976\n",
      "Epoch 36/50\n",
      "129/129 - 1s - loss: 0.0050 - acc: 0.9978\n",
      "Epoch 37/50\n",
      "129/129 - 1s - loss: 0.0053 - acc: 0.9978\n",
      "Epoch 38/50\n",
      "129/129 - 1s - loss: 0.0055 - acc: 0.9978\n",
      "Epoch 39/50\n",
      "129/129 - 1s - loss: 0.0028 - acc: 0.9983\n",
      "Epoch 40/50\n",
      "129/129 - 1s - loss: 0.0021 - acc: 0.9983\n",
      "Epoch 41/50\n",
      "129/129 - 1s - loss: 0.0018 - acc: 0.9985\n",
      "Epoch 42/50\n",
      "129/129 - 1s - loss: 0.0025 - acc: 0.9993\n",
      "Epoch 43/50\n",
      "129/129 - 1s - loss: 0.0046 - acc: 0.9978\n",
      "Epoch 44/50\n",
      "129/129 - 1s - loss: 0.0024 - acc: 0.9985\n",
      "Epoch 45/50\n",
      "129/129 - 1s - loss: 0.0017 - acc: 0.9988\n",
      "Epoch 46/50\n",
      "129/129 - 1s - loss: 0.0017 - acc: 0.9988\n",
      "Epoch 47/50\n",
      "129/129 - 1s - loss: 0.0019 - acc: 0.9985\n",
      "Epoch 48/50\n",
      "129/129 - 1s - loss: 0.0015 - acc: 0.9990\n",
      "Epoch 49/50\n",
      "129/129 - 1s - loss: 0.0015 - acc: 0.9988\n",
      "Epoch 50/50\n",
      "129/129 - 1s - loss: 0.0013 - acc: 0.9990\n"
     ]
    }
   ]
  },
  {
   "cell_type": "code",
   "source": [
    "plt.plot(history.history['acc'])\n",
    "plt.title('model accuracy')\n",
    "plt.ylabel('acc')\n",
    "plt.xlabel('epochs')\n",
    "plt.legend(['train', 'test'], loc='upper left')\n",
    "plt.show()\n",
    "plt.savefig('model_accuracy.png')\n",
    "\n",
    "# summarize history for loss\n",
    "plt.plot(history.history['loss'])\n",
    "#plt.plot(history.history['val_loss'])\n",
    "plt.title('model loss')\n",
    "plt.ylabel('loss')\n",
    "plt.xlabel('epochs')\n",
    "plt.legend(['train', 'test'], loc='upper left')\n",
    "plt.show()\n",
    "plt.savefig('model_loss.png')"
   ],
   "metadata": {
    "execution": {
     "iopub.execute_input": "2020-10-05T01:21:25.729387Z",
     "iopub.status.busy": "2020-10-05T01:21:25.728399Z",
     "iopub.status.idle": "2020-10-05T01:21:26.027345Z",
     "shell.execute_reply": "2020-10-05T01:21:26.026669Z"
    },
    "papermill": {
     "duration": 0.398548,
     "end_time": "2020-10-05T01:21:26.027463",
     "exception": false,
     "start_time": "2020-10-05T01:21:25.628915",
     "status": "completed"
    },
    "tags": [],
    "trusted": true
   },
   "execution_count": 28,
   "outputs": [
    {
     "data": {
      "text/plain": "<Figure size 432x288 with 1 Axes>",
      "image/png": "[encoded data removed]"
     },
     "metadata": {
      "needs_background": "light"
     },
     "output_type": "display_data"
    },
    {
     "data": {
      "text/plain": "<Figure size 432x288 with 1 Axes>",
      "image/png": "[encoded data removed]"
     },
     "metadata": {
      "needs_background": "light"
     },
     "output_type": "display_data"
    },
    {
     "data": {
      "text/plain": "<Figure size 432x288 with 0 Axes>"
     },
     "metadata": {},
     "output_type": "display_data"
    }
   ]
  },
  {
   "cell_type": "code",
   "source": [
    "# evaluate the model\n",
    "_, train_acc = model.evaluate(X_train, Y_train, verbose=2)\n",
    "_, test_acc = model.evaluate(X_test, Y_test, verbose=2)\n",
    "print('Train: %.3f, Test: %.4f' % (train_acc, test_acc))"
   ],
   "metadata": {
    "execution": {
     "iopub.execute_input": "2020-10-05T01:21:26.206672Z",
     "iopub.status.busy": "2020-10-05T01:21:26.205744Z",
     "iopub.status.idle": "2020-10-05T01:21:28.117947Z",
     "shell.execute_reply": "2020-10-05T01:21:28.1172Z"
    },
    "papermill": {
     "duration": 2.004721,
     "end_time": "2020-10-05T01:21:28.118085",
     "exception": false,
     "start_time": "2020-10-05T01:21:26.113364",
     "status": "completed"
    },
    "tags": [],
    "trusted": true
   },
   "execution_count": 29,
   "outputs": [
    {
     "name": "stdout",
     "output_type": "stream",
     "text": [
      "129/129 - 1s - loss: 9.5799e-04 - acc: 0.9998\n",
      "23/23 - 0s - loss: 1.5023 - acc: 0.7125\n",
      "Train: 1.000, Test: 0.7125\n"
     ]
    }
   ]
  },
  {
   "cell_type": "code",
   "source": [
    "# predict probabilities for test set\n",
    "yhat_probs = model.predict(X_test, verbose=0)\n",
    "print(yhat_probs)\n",
    "# predict crisp classes for test set\n",
    "yhat_classes = np.argmax(yhat_probs, axis=1) #  model.predict_classes(X_test, verbose=0)\n",
    "print(yhat_classes)\n",
    "# reduce to 1d array\n",
    "#yhat_probs = yhat_probs[:, 0]\n",
    "#yhat_classes = yhat_classes[:, 1"
   ],
   "metadata": {
    "execution": {
     "iopub.execute_input": "2020-10-05T01:21:28.300463Z",
     "iopub.status.busy": "2020-10-05T01:21:28.299499Z",
     "iopub.status.idle": "2020-10-05T01:21:29.006904Z",
     "shell.execute_reply": "2020-10-05T01:21:29.006054Z"
    },
    "papermill": {
     "duration": 0.801117,
     "end_time": "2020-10-05T01:21:29.007032",
     "exception": false,
     "start_time": "2020-10-05T01:21:28.205915",
     "status": "completed"
    },
    "tags": [],
    "trusted": true
   },
   "execution_count": 31,
   "outputs": [
    {
     "name": "stdout",
     "output_type": "stream",
     "text": [
      "[[8.0932714e-06 9.9999070e-01 1.1958724e-06]\n",
      " [1.0000000e+00 2.9387577e-09 7.4972419e-09]\n",
      " [3.5694583e-10 1.0000000e+00 7.1814343e-10]\n",
      " ...\n",
      " [1.3110305e-04 8.2853076e-05 9.9978608e-01]\n",
      " [4.4137163e-10 1.0000000e+00 5.9870747e-10]\n",
      " [1.0000000e+00 3.1912024e-09 3.2976366e-09]]\n",
      "[1 0 1 1 1 1 1 1 1 1 1 1 0 2 1 1 1 1 1 1 1 1 0 0 1 0 1 1 1 2 1 1 1 2 1 0 1\n",
      " 0 1 1 0 1 0 1 0 1 1 1 0 1 2 1 2 2 1 0 1 1 0 1 0 0 2 0 1 1 1 1 1 0 1 0 0 1\n",
      " 0 1 1 1 1 0 1 2 0 1 0 0 1 0 1 0 0 1 1 2 1 1 0 1 1 1 2 1 1 2 0 0 1 1 2 1 1\n",
      " 1 0 1 1 0 1 0 0 0 0 0 0 1 1 1 0 1 1 1 1 1 2 1 0 1 0 1 1 1 1 0 1 0 1 1 2 1\n",
      " 2 1 1 1 1 1 1 0 0 1 2 1 0 1 1 0 1 0 1 2 1 0 1 0 0 1 0 2 0 0 1 0 1 0 1 1 1\n",
      " 2 1 2 1 1 1 0 0 1 1 0 1 1 1 0 1 1 1 1 1 0 1 1 0 1 0 1 1 1 1 1 1 2 1 1 0 1\n",
      " 1 1 1 1 1 0 1 1 1 0 1 1 2 2 1 0 1 1 1 1 1 0 0 1 1 1 1 0 1 1 0 2 1 0 1 1 1\n",
      " 1 1 0 1 0 2 2 0 1 1 1 1 1 2 1 1 1 1 0 0 0 1 0 1 1 1 1 1 1 1 1 0 1 0 1 2 1\n",
      " 1 1 0 1 0 1 2 1 1 2 1 0 1 0 1 2 0 1 1 1 1 1 1 0 1 1 0 1 0 1 1 0 1 1 1 1 1\n",
      " 1 0 2 1 0 0 1 0 0 1 0 1 1 1 0 1 1 0 1 0 2 1 1 0 1 2 1 1 1 0 1 0 0 2 0 1 0\n",
      " 0 1 1 1 1 1 1 1 0 0 0 0 2 1 0 0 0 1 0 1 0 1 1 0 1 2 1 1 1 0 0 1 1 1 2 2 0\n",
      " 0 1 1 0 1 1 0 1 2 0 1 1 0 1 0 0 1 2 1 1 1 0 1 0 0 1 1 1 1 0 0 2 1 1 0 1 1\n",
      " 0 1 1 0 0 2 1 2 1 0 1 0 2 1 1 0 1 0 1 1 1 2 1 2 1 1 1 1 1 1 1 1 1 0 1 0 1\n",
      " 0 1 0 1 1 2 1 0 0 1 1 0 1 1 0 1 1 1 2 1 1 1 1 0 1 1 1 1 1 2 0 0 1 0 1 1 0\n",
      " 2 0 0 0 0 1 1 1 1 0 0 1 1 1 0 1 1 1 1 1 1 1 1 1 1 0 1 1 1 0 2 1 0 1 1 1 1\n",
      " 0 2 1 0 0 1 0 2 1 1 0 1 0 2 1 1 1 1 1 0 1 1 1 2 1 1 1 0 1 1 0 1 1 1 1 1 1\n",
      " 0 0 0 1 1 1 2 1 0 1 0 1 2 0 2 1 2 1 0 1 1 0 1 1 0 2 1 0 0 2 1 1 1 1 0 1 0\n",
      " 1 1 1 1 1 1 1 1 0 1 1 2 1 1 1 1 1 0 1 1 2 0 0 0 0 1 0 2 0 1 1 1 0 1 1 1 2\n",
      " 0 1 1 0 1 1 1 1 0 1 1 1 2 2 1 1 1 1 1 1 1 1 1 0 1 0 1 0 0 2 1 1 1 1 1 1 1\n",
      " 2 1 0 1 2 1 1 1 2 1 1 1 1 1 1 0 0 1 1 1 1 2 1 0]\n"
     ]
    }
   ]
  },
  {
   "cell_type": "code",
   "source": [
    "import numpy as np\n",
    "rounded_labels=np.argmax(Y_test, axis=1)\n",
    "rounded_labels"
   ],
   "metadata": {
    "execution": {
     "iopub.execute_input": "2020-10-05T01:21:29.191224Z",
     "iopub.status.busy": "2020-10-05T01:21:29.190422Z",
     "iopub.status.idle": "2020-10-05T01:21:29.194988Z",
     "shell.execute_reply": "2020-10-05T01:21:29.194467Z"
    },
    "papermill": {
     "duration": 0.100661,
     "end_time": "2020-10-05T01:21:29.195099",
     "exception": false,
     "start_time": "2020-10-05T01:21:29.094438",
     "status": "completed"
    },
    "tags": [],
    "trusted": true
   },
   "execution_count": 32,
   "outputs": [
    {
     "data": {
      "text/plain": "array([1, 0, 1, 1, 1, 1, 1, 1, 1, 1, 1, 0, 1, 2, 1, 0, 1, 0, 0, 2, 2, 1,\n       0, 0, 1, 0, 1, 0, 0, 2, 1, 1, 0, 2, 1, 0, 2, 0, 1, 1, 0, 1, 2, 1,\n       0, 1, 1, 1, 0, 0, 2, 1, 0, 2, 1, 0, 1, 1, 1, 1, 0, 0, 0, 1, 2, 1,\n       0, 1, 1, 1, 1, 0, 0, 0, 0, 1, 0, 1, 1, 0, 1, 2, 0, 1, 0, 0, 0, 0,\n       0, 0, 0, 1, 2, 2, 1, 0, 1, 1, 0, 1, 2, 1, 1, 2, 1, 1, 1, 1, 1, 1,\n       1, 0, 2, 1, 1, 0, 0, 0, 0, 0, 0, 1, 1, 1, 1, 0, 0, 1, 0, 1, 2, 0,\n       1, 1, 0, 1, 0, 2, 1, 1, 1, 1, 1, 0, 1, 1, 1, 1, 0, 1, 1, 1, 1, 1,\n       1, 1, 1, 1, 2, 2, 0, 0, 1, 0, 1, 0, 1, 2, 1, 1, 1, 0, 1, 1, 0, 1,\n       1, 1, 1, 1, 0, 0, 1, 0, 1, 2, 1, 2, 1, 2, 1, 1, 0, 0, 1, 0, 2, 1,\n       2, 0, 1, 1, 0, 2, 1, 0, 1, 0, 0, 1, 1, 1, 1, 1, 1, 1, 1, 2, 0, 1,\n       0, 1, 1, 1, 2, 1, 1, 0, 1, 1, 1, 0, 0, 1, 2, 0, 1, 0, 1, 1, 1, 1,\n       1, 2, 0, 0, 0, 1, 1, 1, 1, 1, 0, 1, 1, 1, 1, 1, 1, 1, 1, 0, 1, 0,\n       2, 1, 2, 1, 1, 0, 1, 1, 2, 0, 1, 1, 1, 1, 1, 0, 1, 0, 1, 1, 0, 1,\n       1, 1, 2, 1, 0, 1, 0, 2, 2, 1, 1, 1, 0, 1, 0, 1, 1, 2, 1, 2, 1, 0,\n       1, 0, 1, 2, 1, 1, 0, 1, 1, 1, 1, 0, 1, 1, 0, 1, 0, 1, 1, 0, 1, 1,\n       1, 1, 0, 0, 0, 0, 0, 0, 1, 1, 1, 1, 0, 1, 1, 1, 2, 0, 2, 1, 0, 1,\n       1, 1, 1, 1, 0, 1, 2, 0, 1, 1, 1, 1, 0, 0, 1, 2, 1, 0, 0, 0, 1, 1,\n       1, 0, 1, 0, 2, 0, 0, 1, 2, 1, 0, 1, 0, 1, 1, 1, 1, 0, 1, 0, 1, 2,\n       2, 1, 0, 1, 1, 0, 1, 1, 2, 2, 0, 1, 1, 1, 1, 1, 0, 0, 1, 2, 0, 1,\n       1, 0, 2, 0, 1, 2, 2, 1, 1, 2, 1, 1, 0, 0, 1, 1, 1, 1, 1, 0, 2, 0,\n       1, 0, 1, 1, 1, 1, 0, 2, 1, 2, 1, 1, 1, 1, 1, 1, 2, 1, 1, 0, 1, 1,\n       1, 1, 1, 1, 1, 2, 1, 2, 1, 1, 1, 1, 1, 1, 0, 1, 1, 0, 1, 0, 1, 0,\n       1, 1, 1, 1, 0, 0, 1, 1, 1, 1, 1, 1, 1, 0, 1, 1, 1, 2, 1, 1, 0, 1,\n       1, 1, 1, 1, 2, 0, 0, 1, 0, 1, 0, 1, 1, 1, 1, 0, 0, 1, 1, 1, 0, 0,\n       1, 1, 2, 1, 0, 1, 1, 1, 1, 1, 1, 1, 1, 0, 1, 0, 1, 1, 0, 0, 2, 0,\n       0, 1, 1, 1, 1, 0, 2, 1, 0, 1, 1, 0, 2, 2, 1, 0, 1, 0, 2, 0, 0, 1,\n       1, 1, 1, 1, 1, 1, 2, 1, 1, 0, 0, 1, 1, 0, 1, 1, 1, 1, 0, 1, 1, 0,\n       0, 1, 1, 1, 2, 1, 1, 1, 1, 1, 1, 0, 2, 1, 2, 1, 0, 1, 0, 0, 0, 1,\n       1, 2, 1, 0, 2, 2, 1, 0, 1, 0, 1, 1, 0, 1, 0, 0, 2, 0, 0, 1, 1, 0,\n       1, 1, 1, 1, 1, 1, 1, 0, 0, 1, 1, 2, 0, 0, 0, 0, 1, 0, 2, 0, 1, 1,\n       0, 1, 1, 1, 1, 2, 1, 1, 1, 1, 1, 1, 1, 1, 1, 1, 1, 1, 0, 2, 1, 0,\n       1, 1, 1, 2, 0, 0, 1, 0, 1, 2, 1, 1, 1, 2, 1, 0, 1, 1, 1, 0, 1, 1,\n       2, 0, 1, 1, 1, 0, 1, 2, 1, 1, 1, 1, 0, 0, 0, 0, 1, 0, 1, 0, 1, 0,\n       0], dtype=int64)"
     },
     "execution_count": 32,
     "metadata": {},
     "output_type": "execute_result"
    }
   ]
  },
  {
   "cell_type": "code",
   "source": [
    "from sklearn.metrics import confusion_matrix\n",
    "cm = confusion_matrix(rounded_labels, yhat_classes)\n",
    "cm"
   ],
   "metadata": {
    "execution": {
     "iopub.execute_input": "2020-10-05T01:21:29.378285Z",
     "iopub.status.busy": "2020-10-05T01:21:29.377634Z",
     "iopub.status.idle": "2020-10-05T01:21:29.386496Z",
     "shell.execute_reply": "2020-10-05T01:21:29.385863Z"
    },
    "papermill": {
     "duration": 0.102667,
     "end_time": "2020-10-05T01:21:29.386607",
     "exception": false,
     "start_time": "2020-10-05T01:21:29.28394",
     "status": "completed"
    },
    "tags": [],
    "trusted": true
   },
   "execution_count": 33,
   "outputs": [
    {
     "data": {
      "text/plain": "array([[129,  80,   6],\n       [ 66, 341,  19],\n       [  9,  29,  48]], dtype=int64)"
     },
     "execution_count": 33,
     "metadata": {},
     "output_type": "execute_result"
    }
   ]
  },
  {
   "cell_type": "code",
   "source": [
    "# The confusion matrix\n",
    "from sklearn.metrics import confusion_matrix\n",
    "import seaborn as sns\n",
    "\n",
    "lstm_val = confusion_matrix(rounded_labels, yhat_classes)\n",
    "f, ax = plt.subplots(figsize=(5,5))\n",
    "sns.heatmap(lstm_val, annot=True, linewidth=0.7, linecolor='cyan', fmt='g', ax=ax, cmap=\"BuPu\")\n",
    "plt.title('LSTM Classification Confusion Matrix')\n",
    "plt.xlabel('Y predict')\n",
    "plt.ylabel('Y test')\n",
    "plt.show()"
   ],
   "metadata": {
    "execution": {
     "iopub.execute_input": "2020-10-05T01:21:29.609757Z",
     "iopub.status.busy": "2020-10-05T01:21:29.609106Z",
     "iopub.status.idle": "2020-10-05T01:21:29.785727Z",
     "shell.execute_reply": "2020-10-05T01:21:29.785174Z"
    },
    "papermill": {
     "duration": 0.274994,
     "end_time": "2020-10-05T01:21:29.78585",
     "exception": false,
     "start_time": "2020-10-05T01:21:29.510856",
     "status": "completed"
    },
    "tags": [],
    "trusted": true
   },
   "execution_count": 34,
   "outputs": [
    {
     "data": {
      "text/plain": "<Figure size 360x360 with 2 Axes>",
      "image/png": "[encoded data removed]"
     },
     "metadata": {
      "needs_background": "light"
     },
     "output_type": "display_data"
    }
   ]
  },
  {
   "cell_type": "markdown",
   "source": [
    "# Validation"
   ],
   "metadata": {}
  },
  {
   "cell_type": "code",
   "source": [
    "validation_size = 610\n",
    "\n",
    "X_validate = X_test[-validation_size:]\n",
    "Y_validate = Y_test[-validation_size:]\n",
    "X_test = X_test[:-validation_size]\n",
    "Y_test = Y_test[:-validation_size]\n",
    "score,acc = model.evaluate(X_test, Y_test, verbose = 1, batch_size = batch_size)\n",
    "\n",
    "print(\"score: %.2f\" %score)\n",
    "print(\"acc: %.2f\" %acc)"
   ],
   "metadata": {
    "execution": {
     "iopub.execute_input": "2020-10-05T01:21:29.971724Z",
     "iopub.status.busy": "2020-10-05T01:21:29.970793Z",
     "iopub.status.idle": "2020-10-05T01:21:30.139222Z",
     "shell.execute_reply": "2020-10-05T01:21:30.138618Z"
    },
    "papermill": {
     "duration": 0.264325,
     "end_time": "2020-10-05T01:21:30.139378",
     "exception": false,
     "start_time": "2020-10-05T01:21:29.875053",
     "status": "completed"
    },
    "tags": [],
    "trusted": true
   },
   "execution_count": 35,
   "outputs": [
    {
     "name": "stdout",
     "output_type": "stream",
     "text": [
      "4/4 [==============================] - 0s 7ms/step - loss: 1.5822 - acc: 0.7094\b\b\b\b\b\b\b\b\b\b\b\b\b\b\b\b\b\b\b\b\b\b\b\b\b\b\b\b\b\b\b\b\b\b\b\b\b\b\b\b\b\b\b\b\b\b\b\b\b\b\b\b\b\b\b\b\b\b\b\b\b\b\b\b\b\b\b\b\b\b\b\n",
      "score: 1.58\n",
      "acc: 0.71\n"
     ]
    }
   ]
  },
  {
   "cell_type": "markdown",
   "source": [
    "**Save Model**"
   ],
   "metadata": {
    "papermill": {
     "duration": 0.09076,
     "end_time": "2020-10-05T01:21:30.321138",
     "exception": false,
     "start_time": "2020-10-05T01:21:30.230378",
     "status": "completed"
    },
    "tags": []
   }
  },
  {
   "cell_type": "code",
   "source": [
    "model.save('Mymodel.h5')"
   ],
   "metadata": {
    "execution": {
     "iopub.execute_input": "2020-10-05T01:21:30.520966Z",
     "iopub.status.busy": "2020-10-05T01:21:30.520267Z",
     "iopub.status.idle": "2020-10-05T01:21:30.54368Z",
     "shell.execute_reply": "2020-10-05T01:21:30.543068Z"
    },
    "papermill": {
     "duration": 0.126922,
     "end_time": "2020-10-05T01:21:30.543805",
     "exception": false,
     "start_time": "2020-10-05T01:21:30.416883",
     "status": "completed"
    },
    "tags": [],
    "trusted": true
   },
   "execution_count": 36,
   "outputs": []
  },
  {
   "cell_type": "markdown",
   "source": [
    "**Test with new and different data set aside from the data to build the model.**\n",
    "\n",
    "note : sentiment  = {'positive': 0,'neutral': 1,'negative':2} "
   ],
   "metadata": {
    "papermill": {
     "duration": 0.089611,
     "end_time": "2020-10-05T01:21:30.723508",
     "exception": false,
     "start_time": "2020-10-05T01:21:30.633897",
     "status": "completed"
    },
    "tags": []
   }
  },
  {
   "cell_type": "code",
   "source": [
    "message = ['Congratulations! you have won a $1,000 Walmart gift card']\n",
    "seq = tokenizer.texts_to_sequences(message)\n",
    "\n",
    "padded = pad_sequences(seq, maxlen=X.shape[1], dtype='int32', value=0)\n",
    "\n",
    "pred = model.predict(padded)\n",
    "\n",
    "labels = ['0','1','2']\n",
    "print(pred, labels[np.argmax(pred)])"
   ],
   "metadata": {
    "execution": {
     "iopub.execute_input": "2020-10-05T01:21:30.910914Z",
     "iopub.status.busy": "2020-10-05T01:21:30.909943Z",
     "iopub.status.idle": "2020-10-05T01:21:30.951772Z",
     "shell.execute_reply": "2020-10-05T01:21:30.952288Z"
    },
    "papermill": {
     "duration": 0.139045,
     "end_time": "2020-10-05T01:21:30.952454",
     "exception": false,
     "start_time": "2020-10-05T01:21:30.813409",
     "status": "completed"
    },
    "tags": [],
    "trusted": true
   },
   "execution_count": 37,
   "outputs": [
    {
     "name": "stdout",
     "output_type": "stream",
     "text": [
      "[[0.07872527 0.0322215  0.88905317]] 2\n"
     ]
    }
   ]
  },
  {
   "cell_type": "code",
   "source": [
    "message = ['such massive asteroid hit will certainly create new business opportunities']\n",
    "seq = tokenizer.texts_to_sequences(message)\n",
    "\n",
    "padded = pad_sequences(seq, maxlen=X.shape[1], dtype='int32', value=0)\n",
    "\n",
    "pred = model.predict(padded)\n",
    "\n",
    "labels = ['0','1','2']\n",
    "print(pred, labels[np.argmax(pred)])"
   ],
   "metadata": {
    "execution": {
     "iopub.execute_input": "2020-10-05T01:21:31.142988Z",
     "iopub.status.busy": "2020-10-05T01:21:31.142316Z",
     "iopub.status.idle": "2020-10-05T01:21:31.185788Z",
     "shell.execute_reply": "2020-10-05T01:21:31.184921Z"
    },
    "papermill": {
     "duration": 0.141443,
     "end_time": "2020-10-05T01:21:31.185934",
     "exception": false,
     "start_time": "2020-10-05T01:21:31.044491",
     "status": "completed"
    },
    "tags": [],
    "trusted": true
   },
   "execution_count": 38,
   "outputs": [
    {
     "name": "stdout",
     "output_type": "stream",
     "text": [
      "[[9.9997079e-01 2.1883559e-05 7.3230444e-06]] 0\n"
     ]
    }
   ]
  },
  {
   "cell_type": "code",
   "source": [
    "message = ['so does anyone else not open Snapchat anymore ? or is it just me ... ugh this so sad.']\n",
    "seq = tokenizer.texts_to_sequences(message)\n",
    "\n",
    "padded = pad_sequences(seq, maxlen=X.shape[1], dtype='int32', value=0)\n",
    "\n",
    "pred = model.predict(padded)\n",
    "\n",
    "labels = ['0','1','2']\n",
    "print(pred, labels[np.argmax(pred)])"
   ],
   "metadata": {
    "trusted": true
   },
   "execution_count": 39,
   "outputs": [
    {
     "name": "stdout",
     "output_type": "stream",
     "text": [
      "[[6.1022658e-12 1.0000000e+00 5.6711246e-12]] 1\n"
     ]
    }
   ]
  },
  {
   "cell_type": "code",
   "source": [
    "message = ['@elonmusk had a terrible experience with a very pushy sales guy from tesla Stanford shop while shopping for model x']\n",
    "seq = tokenizer.texts_to_sequences(message)\n",
    "\n",
    "padded = pad_sequences(seq, maxlen=X.shape[1], dtype='int32', value=0)\n",
    "\n",
    "pred = model.predict(padded)\n",
    "\n",
    "labels = ['0','1','2']\n",
    "print(pred, labels[np.argmax(pred)])"
   ],
   "metadata": {
    "trusted": true
   },
   "execution_count": 40,
   "outputs": [
    {
     "name": "stdout",
     "output_type": "stream",
     "text": [
      "[[6.9639857e-05 9.9992907e-01 1.3543212e-06]] 1\n"
     ]
    }
   ]
  },
  {
   "cell_type": "code",
   "source": [
    "message = ['The local electronics industry is expected to remain stable amid layoff concerns surrounding Japanese electronics giants operating in the country, an official says.']\n",
    "seq = tokenizer.texts_to_sequences(message)\n",
    "\n",
    "padded = pad_sequences(seq, maxlen=X.shape[1], dtype='int32', value=0)\n",
    "\n",
    "pred = model.predict(padded)\n",
    "\n",
    "labels = ['0','1','2']\n",
    "print(pred, labels[np.argmax(pred)])"
   ],
   "metadata": {
    "trusted": true
   },
   "execution_count": 41,
   "outputs": [
    {
     "name": "stdout",
     "output_type": "stream",
     "text": [
      "[[1.7782825e-10 1.0000000e+00 1.3231644e-10]] 1\n"
     ]
    }
   ]
  },
  {
   "cell_type": "code",
   "source": [
    "message = ['The local electronics industry is amid layoff concerns and last year has laid off tens of employees']\n",
    "seq = tokenizer.texts_to_sequences(message)\n",
    "\n",
    "padded = pad_sequences(seq, maxlen=X.shape[1], dtype='int32', value=0)\n",
    "\n",
    "pred = model.predict(padded)\n",
    "\n",
    "labels = ['0','1','2']\n",
    "print(pred, labels[np.argmax(pred)])"
   ],
   "metadata": {
    "trusted": true,
    "pycharm": {
     "name": "#%%\n"
    }
   },
   "execution_count": 42,
   "outputs": [
    {
     "name": "stdout",
     "output_type": "stream",
     "text": [
      "[[2.6333930e-07 5.3379125e-08 9.9999964e-01]] 2\n"
     ]
    }
   ]
  }
 ]
}